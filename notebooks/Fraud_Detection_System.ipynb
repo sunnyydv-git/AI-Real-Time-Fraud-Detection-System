{
  "cells": [
    {
      "cell_type": "code",
      "source": [
        "from azureml.core import Workspace, Dataset\n",
        "ws = Workspace.from_config()\n",
        "dataset = Dataset.get_by_name(ws, name='frauds_data')\n",
        "df = dataset.to_pandas_dataframe()\n",
        "print(df.head())"
      ],
      "outputs": [
        {
          "output_type": "stream",
          "name": "stdout",
          "text": "{'infer_column_types': 'False', 'activity': 'to_pandas_dataframe'}\n{'infer_column_types': 'False', 'activity': 'to_pandas_dataframe', 'activityApp': 'TabularDataset'}\n   transaction_id  user_id    amount transaction_type     status device_id  \\\n0               1      165   1607.95       withdrawal  completed    dev992   \n1               2      723   3811.21         transfer    pending    dev965   \n2               3      598    743.71       withdrawal    pending    dev515   \n3               4      497   1903.64       withdrawal  completed    dev489   \n4               5      205  11227.20       withdrawal    pending  devF1997   \n\n           location  is_foreign_transaction  num_chargebacks predicted_fraud  \\\n0    Chennai, India                   False                0            None   \n1     Mumbai, India                   False                2            None   \n2  Bangalore, India                    True                2            None   \n3  Bangalore, India                    True                2            None   \n4   Berlin, Germany                    True                3            None   \n\n   potential_fraud  \n0                0  \n1                0  \n2                1  \n3                1  \n4                1  \n"
        }
      ],
      "execution_count": 1,
      "metadata": {
        "gather": {
          "logged": 1744052698790
        }
      }
    },
    {
      "cell_type": "code",
      "source": [
        "import pandas as pd\n",
        "import numpy as np\n",
        "from sklearn.model_selection import train_test_split\n",
        "from sklearn.ensemble import RandomForestClassifier\n",
        "from sklearn.preprocessing import LabelEncoder\n",
        "from sklearn.metrics import classification_report, confusion_matrix\n"
      ],
      "outputs": [],
      "execution_count": 2,
      "metadata": {
        "gather": {
          "logged": 1744052827674
        }
      }
    },
    {
      "cell_type": "code",
      "source": [
        "# 3. Preprocessing\n",
        "df = df.copy()\n",
        "\n",
        "# Fill nulls if any\n",
        "df = df.fillna({'predicted_fraud': 'None'})\n"
      ],
      "outputs": [],
      "execution_count": 3,
      "metadata": {
        "gather": {
          "logged": 1744052867715
        }
      }
    },
    {
      "cell_type": "code",
      "source": [
        "# Encode categorical features\n",
        "cat_features = ['transaction_type', 'status', 'device_id', 'location']\n",
        "le_dict = {}\n",
        "\n",
        "for col in cat_features:\n",
        "    le = LabelEncoder()\n",
        "    df[col] = le.fit_transform(df[col])\n",
        "    le_dict[col] = le  # For inverse_transform later if needed\n",
        "\n",
        "# Convert booleans to integers\n",
        "df['is_foreign_transaction'] = df['is_foreign_transaction'].astype(int)\n",
        "\n",
        "# 4. Prepare features and target\n",
        "features = ['user_id', 'amount', 'transaction_type', 'status', 'device_id', 'location',\n",
        "            'is_foreign_transaction', 'num_chargebacks']\n",
        "target = 'potential_fraud'"
      ],
      "outputs": [],
      "execution_count": 4,
      "metadata": {
        "gather": {
          "logged": 1744052893212
        }
      }
    },
    {
      "cell_type": "code",
      "source": [
        "X = df[features]\n",
        "y = df[target]\n",
        "\n",
        "# 5. Split the dataset\n",
        "X_train, X_test, y_train, y_test = train_test_split(X, y, test_size=0.2, random_state=42)\n"
      ],
      "outputs": [],
      "execution_count": 5,
      "metadata": {
        "gather": {
          "logged": 1744052904827
        }
      }
    },
    {
      "cell_type": "code",
      "source": [
        "# 6. Train Random Forest Classifier\n",
        "clf = RandomForestClassifier(n_estimators=100, random_state=42)\n",
        "clf.fit(X_train, y_train)\n",
        "\n",
        "# 7. Evaluate the model\n",
        "y_pred = clf.predict(X_test)\n",
        "print(\"Classification Report:\\n\", classification_report(y_test, y_pred))\n",
        "print(\"Confusion Matrix:\\n\", confusion_matrix(y_test, y_pred))"
      ],
      "outputs": [
        {
          "output_type": "stream",
          "name": "stdout",
          "text": "Classification Report:\n               precision    recall  f1-score   support\n\n           0       1.00      1.00      1.00         4\n           1       1.00      1.00      1.00         6\n\n    accuracy                           1.00        10\n   macro avg       1.00      1.00      1.00        10\nweighted avg       1.00      1.00      1.00        10\n\nConfusion Matrix:\n [[4 0]\n [0 6]]\n"
        }
      ],
      "execution_count": 6,
      "metadata": {
        "gather": {
          "logged": 1744052920226
        }
      }
    },
    {
      "cell_type": "code",
      "source": [
        "# 8. Predict for entire data and store in predicted_fraud\n",
        "df['predicted_fraud'] = clf.predict(X)\n",
        "\n",
        "# Optional: convert back to 'Yes'/'No' format or leave as 0/1\n",
        "df['predicted_fraud'] = df['predicted_fraud'].apply(lambda x: 'Yes' if x == 1 else 'No')\n",
        "\n",
        "# Show final dataframe\n",
        "df.head()\n"
      ],
      "outputs": [
        {
          "output_type": "execute_result",
          "execution_count": 7,
          "data": {
            "text/plain": "   transaction_id  user_id    amount  transaction_type  status  device_id  \\\n0               1      165   1607.95                 3       0         27   \n1               2      723   3811.21                 2       2         25   \n2               3      598    743.71                 3       2         14   \n3               4      497   1903.64                 3       0         13   \n4               5      205  11227.20                 3       2         29   \n\n   location  is_foreign_transaction  num_chargebacks predicted_fraud  \\\n0         2                       0                0              No   \n1         5                       0                2              No   \n2         0                       1                2             Yes   \n3         0                       1                2             Yes   \n4         1                       1                3             Yes   \n\n   potential_fraud  \n0                0  \n1                0  \n2                1  \n3                1  \n4                1  ",
            "text/html": "<div>\n<style scoped>\n    .dataframe tbody tr th:only-of-type {\n        vertical-align: middle;\n    }\n\n    .dataframe tbody tr th {\n        vertical-align: top;\n    }\n\n    .dataframe thead th {\n        text-align: right;\n    }\n</style>\n<table border=\"1\" class=\"dataframe\">\n  <thead>\n    <tr style=\"text-align: right;\">\n      <th></th>\n      <th>transaction_id</th>\n      <th>user_id</th>\n      <th>amount</th>\n      <th>transaction_type</th>\n      <th>status</th>\n      <th>device_id</th>\n      <th>location</th>\n      <th>is_foreign_transaction</th>\n      <th>num_chargebacks</th>\n      <th>predicted_fraud</th>\n      <th>potential_fraud</th>\n    </tr>\n  </thead>\n  <tbody>\n    <tr>\n      <th>0</th>\n      <td>1</td>\n      <td>165</td>\n      <td>1607.95</td>\n      <td>3</td>\n      <td>0</td>\n      <td>27</td>\n      <td>2</td>\n      <td>0</td>\n      <td>0</td>\n      <td>No</td>\n      <td>0</td>\n    </tr>\n    <tr>\n      <th>1</th>\n      <td>2</td>\n      <td>723</td>\n      <td>3811.21</td>\n      <td>2</td>\n      <td>2</td>\n      <td>25</td>\n      <td>5</td>\n      <td>0</td>\n      <td>2</td>\n      <td>No</td>\n      <td>0</td>\n    </tr>\n    <tr>\n      <th>2</th>\n      <td>3</td>\n      <td>598</td>\n      <td>743.71</td>\n      <td>3</td>\n      <td>2</td>\n      <td>14</td>\n      <td>0</td>\n      <td>1</td>\n      <td>2</td>\n      <td>Yes</td>\n      <td>1</td>\n    </tr>\n    <tr>\n      <th>3</th>\n      <td>4</td>\n      <td>497</td>\n      <td>1903.64</td>\n      <td>3</td>\n      <td>0</td>\n      <td>13</td>\n      <td>0</td>\n      <td>1</td>\n      <td>2</td>\n      <td>Yes</td>\n      <td>1</td>\n    </tr>\n    <tr>\n      <th>4</th>\n      <td>5</td>\n      <td>205</td>\n      <td>11227.20</td>\n      <td>3</td>\n      <td>2</td>\n      <td>29</td>\n      <td>1</td>\n      <td>1</td>\n      <td>3</td>\n      <td>Yes</td>\n      <td>1</td>\n    </tr>\n  </tbody>\n</table>\n</div>"
          },
          "metadata": {}
        }
      ],
      "execution_count": 7,
      "metadata": {
        "gather": {
          "logged": 1744052935129
        }
      }
    },
    {
      "cell_type": "code",
      "source": [
        "import joblib\n",
        "\n",
        "# Save the model\n",
        "joblib.dump(clf, 'fraud_detection_rf_model.pkl')\n",
        "\n",
        "print(\"Model saved as 'fraud_detection_rf_model.pkl'\")\n"
      ],
      "outputs": [
        {
          "output_type": "stream",
          "name": "stdout",
          "text": "✅ Model saved as 'fraud_detection_rf_model.pkl'\n"
        }
      ],
      "execution_count": 8,
      "metadata": {
        "gather": {
          "logged": 1744053185177
        }
      }
    },
    {
      "cell_type": "code",
      "source": [
        "from azureml.core import Workspace, Model\n",
        "\n",
        "# If not already connected to your workspace, load it\n",
        "# ws = Workspace.from_config()  # Uncomment if needed\n",
        "\n",
        "# Register the Random Forest model\n",
        "model = Model.register(\n",
        "    workspace=ws,\n",
        "    model_path='fraud_detection_rf_model.pkl',  # Local path to the saved model\n",
        "    model_name='fraud_detection_rf_model'       # Name to register in Azure\n",
        ")\n",
        "\n",
        "print(f\"Model registered: {model.name}, ID: {model.id}, Version: {model.version}\")\n"
      ],
      "outputs": [
        {
          "output_type": "stream",
          "name": "stdout",
          "text": "Registering model fraud_detection_rf_model\n✅ Model registered: fraud_detection_rf_model, ID: fraud_detection_rf_model:1, Version: 1\n"
        }
      ],
      "execution_count": 9,
      "metadata": {
        "gather": {
          "logged": 1744053293174
        }
      }
    },
    {
      "cell_type": "code",
      "source": [],
      "outputs": [],
      "execution_count": null,
      "metadata": {}
    }
  ],
  "metadata": {
    "kernelspec": {
      "name": "python310-sdkv2",
      "language": "python",
      "display_name": "Python 3.10 - SDK v2"
    },
    "language_info": {
      "name": "python",
      "version": "3.10.14",
      "mimetype": "text/x-python",
      "codemirror_mode": {
        "name": "ipython",
        "version": 3
      },
      "pygments_lexer": "ipython3",
      "nbconvert_exporter": "python",
      "file_extension": ".py"
    },
    "microsoft": {
      "ms_spell_check": {
        "ms_spell_check_language": "en"
      },
      "host": {
        "AzureML": {
          "notebookHasBeenCompleted": true
        }
      }
    },
    "kernel_info": {
      "name": "python310-sdkv2"
    },
    "nteract": {
      "version": "nteract-front-end@1.0.0"
    }
  },
  "nbformat": 4,
  "nbformat_minor": 2
}